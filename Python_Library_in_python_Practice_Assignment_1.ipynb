{
  "nbformat": 4,
  "nbformat_minor": 0,
  "metadata": {
    "colab": {
      "provenance": [],
      "authorship_tag": "ABX9TyNtkkhuVeytEGK6RzGKAqjk",
      "include_colab_link": true
    },
    "kernelspec": {
      "name": "python3",
      "display_name": "Python 3"
    },
    "language_info": {
      "name": "python"
    }
  },
  "cells": [
    {
      "cell_type": "markdown",
      "metadata": {
        "id": "view-in-github",
        "colab_type": "text"
      },
      "source": [
        "<a href=\"https://colab.research.google.com/github/DivyaBharathi30/Git_gym/blob/main/Python_Library_in_python_Practice_Assignment_1.ipynb\" target=\"_parent\"><img src=\"https://colab.research.google.com/assets/colab-badge.svg\" alt=\"Open In Colab\"/></a>"
      ]
    },
    {
      "cell_type": "code",
      "execution_count": null,
      "metadata": {
        "colab": {
          "base_uri": "https://localhost:8080/"
        },
        "id": "aNEWNOMdB0A5",
        "outputId": "f3a5a8bc-eefa-4716-cfd1-0ba355ba6d53"
      },
      "outputs": [
        {
          "output_type": "stream",
          "name": "stdout",
          "text": [
            "        name  score\n",
            "0  Anastasia   12.5\n",
            "1       Dima    9.0\n",
            "2  Katherine   16.5\n",
            "3      James    9.0\n",
            "4      Emily    2.0\n",
            "5    Michael   20.0\n",
            "6    Matthew   14.5\n",
            "7      Laura   10.0\n",
            "8      Kevin    8.0\n",
            "9      Jonas   19.0\n"
          ]
        }
      ],
      "source": [
        "#Python Library in python - Practice Assignment 1\n",
        "#Q 1.\n",
        "import pandas as pd \n",
        "exam_data = {'name': ['Anastasia', 'Dima', 'Katherine', 'James', 'Emily', 'Michael', 'Matthew', 'Laura', 'Kevin', 'Jonas'],\n",
        "\n",
        "               'score': [12.5, 9, 16.5, 9, 2, 20, 14.5, 10, 8, 19],\n",
        "\n",
        "              'attempts': [1, 3, 4, 3, 5, 3, 6, 1, 7, 1] } \n",
        "df = pd.DataFrame(exam_data) \n",
        "\n",
        "print(df[['name', 'score']]) \n"
      ]
    },
    {
      "cell_type": "code",
      "source": [
        "#Q 2.\n",
        "import pandas as pd \n",
        "exam_data = {'name': ['Anastasia', 'Dima', 'Katherine', 'James', 'Emily', 'Michael', 'Matthew', 'Laura', 'Kevin', 'Jonas'],\n",
        "\n",
        "               'score': [12.5, 9, 16.5, 9, 2, 20, 14.5, 10, 8, 19],\n",
        "\n",
        "              'attempts': [1, 3, 4, 3, 5, 3, 6, 1, 7, 1] } \n",
        "df = pd.DataFrame(exam_data) \n",
        "attempts=df.query('attempts>3')\n",
        "print(attempts) \n"
      ],
      "metadata": {
        "colab": {
          "base_uri": "https://localhost:8080/"
        },
        "id": "9A9HyV8DEyu0",
        "outputId": "ff375668-314e-49f0-d9d6-116dc2f3fe00"
      },
      "execution_count": null,
      "outputs": [
        {
          "output_type": "stream",
          "name": "stdout",
          "text": [
            "        name  score  attempts\n",
            "2  Katherine   16.5         4\n",
            "4      Emily    2.0         5\n",
            "6    Matthew   14.5         6\n",
            "8      Kevin    8.0         7\n"
          ]
        }
      ]
    },
    {
      "cell_type": "code",
      "source": [
        "#Q 3. a)Select rows where age is greater than 30:\n",
        "import pandas as pd \n",
        "data = {'name': ['Alice', 'Bob', 'Charlie', 'Dave'],\n",
        "\n",
        "        'age': [25, 35, 40, 28],\n",
        "\n",
        "        'gender': ['F', 'M', 'M', 'M'],\n",
        "\n",
        "        'salary': [50000, 70000, 60000, 80000]}\n",
        "\n",
        "df = pd.DataFrame(data)\n",
        "age=df.query('age>30')\n",
        "print(age) "
      ],
      "metadata": {
        "colab": {
          "base_uri": "https://localhost:8080/"
        },
        "id": "qA62RneGGa_Y",
        "outputId": "87ce370f-f933-43bf-c1e0-db15783d0ce5"
      },
      "execution_count": null,
      "outputs": [
        {
          "output_type": "stream",
          "name": "stdout",
          "text": [
            "      name  age gender  salary\n",
            "1      Bob   35      M   70000\n",
            "2  Charlie   40      M   60000\n"
          ]
        }
      ]
    },
    {
      "cell_type": "code",
      "source": [
        "#b) Select rows where name contains 'e':\n",
        "import pandas as pd \n",
        "data = {'name': ['Alice', 'Bob', 'Charlie', 'Dave'],\n",
        "\n",
        "        'age': [25, 35, 40, 28],\n",
        "\n",
        "        'gender': ['F', 'M', 'M', 'M'],\n",
        "\n",
        "        'salary': [50000, 70000, 60000, 80000]}\n",
        "\n",
        "df = pd.DataFrame(data)\n",
        "df_filtered = df[df['name'].str.contains(('e'))]\n",
        "\n",
        "print(df_filtered) "
      ],
      "metadata": {
        "colab": {
          "base_uri": "https://localhost:8080/"
        },
        "id": "aNUlfdPTHLLp",
        "outputId": "a25a7dd8-d1fe-4340-8c3c-5697d185154c"
      },
      "execution_count": null,
      "outputs": [
        {
          "output_type": "stream",
          "name": "stdout",
          "text": [
            "      name  age gender  salary\n",
            "0    Alice   25      F   50000\n",
            "2  Charlie   40      M   60000\n",
            "3     Dave   28      M   80000\n"
          ]
        }
      ]
    },
    {
      "cell_type": "code",
      "source": [
        "#c) Select rows where gender is 'M' and salary is greater than 65000:\n",
        "import pandas as pd \n",
        "data = {'name': ['Alice', 'Bob', 'Charlie', 'Dave'],\n",
        "\n",
        "        'age': [25, 35, 40, 28],\n",
        "\n",
        "        'gender': ['F', 'M', 'M', 'M'],\n",
        "\n",
        "        'salary': [50000, 70000, 60000, 80000]}\n",
        "\n",
        "df = pd.DataFrame(data)\n",
        "names=df.query('gender == [\"F\", \"M\"] and salary>65000')\n",
        "print(names) "
      ],
      "metadata": {
        "colab": {
          "base_uri": "https://localhost:8080/"
        },
        "id": "Pf6Xsrj8JIOv",
        "outputId": "517fe7a1-1061-4491-813f-f7c06d45bd70"
      },
      "execution_count": null,
      "outputs": [
        {
          "output_type": "stream",
          "name": "stdout",
          "text": [
            "   name  age gender  salary\n",
            "1   Bob   35      M   70000\n",
            "3  Dave   28      M   80000\n"
          ]
        }
      ]
    },
    {
      "cell_type": "code",
      "source": [
        "#d) Select columns 'name' and 'age':\n",
        "import pandas as pd \n",
        "data = {'name': ['Alice', 'Bob', 'Charlie', 'Dave'],\n",
        "\n",
        "        'age': [25, 35, 40, 28],\n",
        "\n",
        "        'gender': ['F', 'M', 'M', 'M'],\n",
        "\n",
        "        'salary': [50000, 70000, 60000, 80000]}\n",
        "\n",
        "df = pd.DataFrame(data)\n",
        "columns=df.loc[:,['name','age']]\n",
        "print(columns) "
      ],
      "metadata": {
        "colab": {
          "base_uri": "https://localhost:8080/"
        },
        "id": "9RXtUoKKJrXH",
        "outputId": "c8bd59de-62d6-482a-80b2-d402540a4f84"
      },
      "execution_count": null,
      "outputs": [
        {
          "output_type": "stream",
          "name": "stdout",
          "text": [
            "      name  age\n",
            "0    Alice   25\n",
            "1      Bob   35\n",
            "2  Charlie   40\n",
            "3     Dave   28\n"
          ]
        }
      ]
    },
    {
      "cell_type": "code",
      "source": [
        "#e) Select columns 'name' and 'salary' where age is less than or equal to 30:\n",
        "import pandas as pd \n",
        "data = {'name': ['Alice', 'Bob', 'Charlie', 'Dave'],\n",
        "\n",
        "        'age': [25, 35, 40, 28],\n",
        "\n",
        "        'gender': ['F', 'M', 'M', 'M'],\n",
        "\n",
        "        'salary': [50000, 70000, 60000, 80000]}\n",
        "\n",
        "df = pd.DataFrame(data)\n",
        "df_filtered=df.loc[:,['name','salary']]\n",
        "df_filtered = df[df['age'] <= 30]\n",
        "print(df_filtered) "
      ],
      "metadata": {
        "colab": {
          "base_uri": "https://localhost:8080/"
        },
        "id": "QgqWUcDKKvbr",
        "outputId": "0084e5e6-63e4-47a6-ddef-ad6405aa24b6"
      },
      "execution_count": null,
      "outputs": [
        {
          "output_type": "stream",
          "name": "stdout",
          "text": [
            "    name  age gender  salary\n",
            "0  Alice   25      F   50000\n",
            "3   Dave   28      M   80000\n"
          ]
        }
      ]
    }
  ]
}